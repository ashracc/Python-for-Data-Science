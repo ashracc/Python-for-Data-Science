{
  "nbformat": 4,
  "nbformat_minor": 0,
  "metadata": {
    "colab": {
      "name": "challenge003.ipynb",
      "provenance": [],
      "collapsed_sections": [],
      "authorship_tag": "ABX9TyNGbYJdxXyGmIXx9E38yJ87",
      "include_colab_link": true
    },
    "kernelspec": {
      "name": "python3",
      "display_name": "Python 3"
    },
    "language_info": {
      "name": "python"
    }
  },
  "cells": [
    {
      "cell_type": "markdown",
      "metadata": {
        "id": "view-in-github",
        "colab_type": "text"
      },
      "source": [
        "<a href=\"https://colab.research.google.com/github/ashracc/Python-for-Data-Science/blob/main/challenge003.ipynb\" target=\"_parent\"><img src=\"https://colab.research.google.com/assets/colab-badge.svg\" alt=\"Open In Colab\"/></a>"
      ]
    },
    {
      "cell_type": "code",
      "metadata": {
        "id": "AirB_YLctC7J",
        "colab": {
          "base_uri": "https://localhost:8080/"
        },
        "outputId": "a0a030ec-33ee-4d02-fd28-35dc1c6158ee"
      },
      "source": [
        "# Write a program which can compute the factorial of a given numbers. The results should be printed in a comma-separated sequence on a single line. Suppose the following input is supplied to the program: 8 Then, the output should be:40320\n",
        "import math\n",
        "\n",
        "def get_fact(elements):\n",
        "    return [str(math.factorial(x)) for x in elements]\n",
        "\n",
        "def get_user_input():\n",
        "  ans = \"Y\"\n",
        "  input_list = []\n",
        "  while ans.upper() == 'Y':\n",
        "      element = int(input(\"Enter the element: \"))\n",
        "      input_list.append(element)\n",
        "      ans = str(input(\"Do you want to enter more elements? [Y/N]:\"))\n",
        "      while ans.upper() not in [\"Y\",\"N\"]:\n",
        "        ans = str(input(\"Select a valid option.\\nDo you want to enter more elements? [Y/N]:\"))\n",
        "  \n",
        "  return input_list\n",
        "\n",
        "my_list = get_user_input()\n",
        "print(\",\".join(get_fact(my_list)))"
      ],
      "execution_count": 3,
      "outputs": [
        {
          "output_type": "stream",
          "name": "stdout",
          "text": [
            "Enter the element: 4\n",
            "Do you want to enter more elements? [Y/N]:y\n",
            "Enter the element: 5\n",
            "Do you want to enter more elements? [Y/N]:y\n",
            "Enter the element: 6\n",
            "Do you want to enter more elements? [Y/N]:7\n",
            "Select a valid option.\n",
            "Do you want to enter more elements? [Y/N]:y\n",
            "Enter the element: 7\n",
            "Do you want to enter more elements? [Y/N]:y\n",
            "Enter the element: 8\n",
            "Do you want to enter more elements? [Y/N]:n\n",
            "24,120,720,5040,40320\n"
          ]
        }
      ]
    },
    {
      "cell_type": "code",
      "metadata": {
        "id": "yC7svtfUuPdS"
      },
      "source": [
        ""
      ],
      "execution_count": null,
      "outputs": []
    }
  ]
}