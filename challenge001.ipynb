{
  "nbformat": 4,
  "nbformat_minor": 0,
  "metadata": {
    "colab": {
      "name": "Untitled0.ipynb",
      "provenance": [],
      "authorship_tag": "ABX9TyPx00bV0fO9lh6sbBV8arKT",
      "include_colab_link": true
    },
    "kernelspec": {
      "name": "python3",
      "display_name": "Python 3"
    },
    "language_info": {
      "name": "python"
    }
  },
  "cells": [
    {
      "cell_type": "markdown",
      "metadata": {
        "id": "view-in-github",
        "colab_type": "text"
      },
      "source": [
        "<a href=\"https://colab.research.google.com/github/ashracc/Python-for-Data-Science/blob/main/challenge001.ipynb\" target=\"_parent\"><img src=\"https://colab.research.google.com/assets/colab-badge.svg\" alt=\"Open In Colab\"/></a>"
      ]
    },
    {
      "cell_type": "code",
      "metadata": {
        "colab": {
          "base_uri": "https://localhost:8080/"
        },
        "id": "AirB_YLctC7J",
        "outputId": "6dc18aac-aec2-4a75-ea92-edb1e0a3c5b3"
      },
      "source": [
        "# Write a program which will find all such numbers which are divisible by 2 but are not a multiple of 3, between x and y (both included).The numbers obtained must be printed in a comma-separated sequence on a single line.\n",
        "def my_funct(ini, end):\n",
        "  return [str(num) for num in range(ini, end + 1) if num % 2 == 0 and num % 3 != 0]\n",
        "\n",
        "print(','.join(my_funct(3, 50)))"
      ],
      "execution_count": 16,
      "outputs": [
        {
          "output_type": "stream",
          "name": "stdout",
          "text": [
            "4,8,10,14,16,20,22,26,28,32,34,38,40,44,46,50\n"
          ]
        }
      ]
    },
    {
      "cell_type": "code",
      "metadata": {
        "id": "yC7svtfUuPdS"
      },
      "source": [
        ""
      ],
      "execution_count": null,
      "outputs": []
    }
  ]
}