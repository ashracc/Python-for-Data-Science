{
  "nbformat": 4,
  "nbformat_minor": 0,
  "metadata": {
    "colab": {
      "name": "challenge002.ipynb",
      "provenance": [],
      "authorship_tag": "ABX9TyN6vxri+uO6GWlKOhDDODq9",
      "include_colab_link": true
    },
    "kernelspec": {
      "name": "python3",
      "display_name": "Python 3"
    },
    "language_info": {
      "name": "python"
    }
  },
  "cells": [
    {
      "cell_type": "markdown",
      "metadata": {
        "id": "view-in-github",
        "colab_type": "text"
      },
      "source": [
        "<a href=\"https://colab.research.google.com/github/ashracc/Python-for-Data-Science/blob/main/challenge002.ipynb\" target=\"_parent\"><img src=\"https://colab.research.google.com/assets/colab-badge.svg\" alt=\"Open In Colab\"/></a>"
      ]
    },
    {
      "cell_type": "code",
      "metadata": {
        "colab": {
          "base_uri": "https://localhost:8080/"
        },
        "id": "AirB_YLctC7J",
        "outputId": "4f50ae0c-2c3b-4ef3-e9bc-c500bee12db0"
      },
      "source": [
        "# Find the number of elements in a list. Eg., l = [1, 2, 3, 4] Number of elements in [1,2,3,4]: 4 (You can't use len function) Try to take input from user.\n",
        "\n",
        "def my_funct(my_list):\n",
        "  counter = 0\n",
        "  for x in my_list:\n",
        "    counter += 1\n",
        "\n",
        "  print(\"Number of elements in {0}: {1}\".format(my_list, counter))\n",
        "\n",
        "ans = \"Y\"\n",
        "my_list = []\n",
        "while ans.upper() == 'Y':\n",
        "    element = input(\"Enter the element: \")\n",
        "    my_list.append(element)\n",
        "    ans = str(input(\"Do you want to enter more elements? [Y/N]:\"))\n",
        "    while ans.upper() not in [\"Y\",\"N\"]:\n",
        "      ans = str(input(\"Select a valid option.\\nDo you want to enter more elements? [Y/N]:\"))\n",
        "\n",
        "my_funct(my_list)\n",
        "    "
      ],
      "execution_count": 36,
      "outputs": [
        {
          "output_type": "stream",
          "name": "stdout",
          "text": [
            "Enter the element: 2\n",
            "Do you want to enter more elements? [Y/N]:g\n",
            "Select a valid option.\n",
            "Do you want to enter more elements? [Y/N]:y\n",
            "Enter the element: 2\n",
            "Do you want to enter more elements? [Y/N]:h\n",
            "Select a valid option.\n",
            "Do you want to enter more elements? [Y/N]:y\n",
            "Enter the element: f\n",
            "Do you want to enter more elements? [Y/N]:y\n",
            "Enter the element: j\n",
            "Do you want to enter more elements? [Y/N]:y\n",
            "Enter the element: 4\n",
            "Do you want to enter more elements? [Y/N]:y\n",
            "Enter the element: juan\n",
            "Do you want to enter more elements? [Y/N]:n\n",
            "Number of elements in ['2', '2', 'f', 'j', '4', 'juan']: 6\n"
          ]
        }
      ]
    },
    {
      "cell_type": "code",
      "metadata": {
        "id": "yC7svtfUuPdS"
      },
      "source": [
        ""
      ],
      "execution_count": null,
      "outputs": []
    }
  ]
}