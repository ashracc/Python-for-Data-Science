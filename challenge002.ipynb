{
  "nbformat": 4,
  "nbformat_minor": 0,
  "metadata": {
    "colab": {
      "name": "challenge002.ipynb",
      "provenance": [],
      "authorship_tag": "ABX9TyOJ0N2EdoMBrjP6YGlyj+gk",
      "include_colab_link": true
    },
    "kernelspec": {
      "name": "python3",
      "display_name": "Python 3"
    },
    "language_info": {
      "name": "python"
    }
  },
  "cells": [
    {
      "cell_type": "markdown",
      "metadata": {
        "id": "view-in-github",
        "colab_type": "text"
      },
      "source": [
        "<a href=\"https://colab.research.google.com/github/ashracc/Python-for-Data-Science/blob/main/challenge002.ipynb\" target=\"_parent\"><img src=\"https://colab.research.google.com/assets/colab-badge.svg\" alt=\"Open In Colab\"/></a>"
      ]
    },
    {
      "cell_type": "code",
      "metadata": {
        "colab": {
          "base_uri": "https://localhost:8080/"
        },
        "id": "AirB_YLctC7J",
        "outputId": "5b7f3555-ddc6-40cd-e2c8-bf27ec5f6062"
      },
      "source": [
        "# Find the number of elements in a list. Eg., l = [1, 2, 3, 4] Number of elements in [1,2,3,4]: 4 (You can't use len function) Try to take input from user.\n",
        "\n",
        "def my_funct(my_list):\n",
        "  str_list = [str(x) for x in my_list]\n",
        "  counter = 0\n",
        "\n",
        "  for x in \",\".join(str_list):\n",
        "    if x.startswith(\",\") and x.endswith(\",\"):\n",
        "      counter = counter + 1\n",
        "\n",
        "  print(\"Number of elements in {0}: {1}\".format(my_list, counter + 1))\n",
        "  \n",
        "my_funct([1,2,3,4,4,3,1,2,3,10])"
      ],
      "execution_count": 26,
      "outputs": [
        {
          "output_type": "stream",
          "name": "stdout",
          "text": [
            "Number of elements in [1, 2, 3, 4, 4, 3, 1, 2, 3, 10]: 10\n"
          ]
        }
      ]
    },
    {
      "cell_type": "code",
      "metadata": {
        "id": "yC7svtfUuPdS"
      },
      "source": [
        ""
      ],
      "execution_count": null,
      "outputs": []
    }
  ]
}